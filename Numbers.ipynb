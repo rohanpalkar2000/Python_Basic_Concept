{
  "cells": [
    {
      "cell_type": "markdown",
      "metadata": {
        "id": "PZMRMRBJh29n"
      },
      "source": [
        "# Numbers and more in Python!\n",
        "\n",
        "In this lecture, we will learn about numbers in Python and how to use them.\n",
        "\n",
        "We'll learn about the following topics:\n",
        "\n",
        "    1.) Types of Numbers in Python\n",
        "    2.) Basic Arithmetic\n",
        "    3.) Differences between classic division and floor division\n",
        "    4.) Object Assignment in Python"
      ]
    },
    {
      "cell_type": "markdown",
      "metadata": {
        "id": "Q0eW4XHth29r"
      },
      "source": [
        "## Types of numbers\n",
        "\n",
        "Python has various \"types\" of numbers (numeric literals). We'll mainly focus on integers and floating point numbers.\n",
        "\n",
        "Integers are just whole numbers, positive or negative. For example: 2 and -2 are examples of integers.\n",
        "\n",
        "Floating point numbers in Python are notable because they have a decimal point in them, or use an exponential (e) to define the number. For example 2.0 and -2.1 are examples of floating point numbers. 4E2 (4 times 10 to the power of 2) is also an example of a floating point number in Python.\n",
        "\n",
        "Throughout this course we will be mainly working with integers or simple float number types.\n",
        "\n",
        "Here is a table of the two main types we will spend most of our time working with some examples:"
      ]
    },
    {
      "cell_type": "markdown",
      "metadata": {
        "id": "mrc1Jv6Ah29s"
      },
      "source": [
        "<table>\n",
        "<tr>\n",
        "    <th>Examples</th>\n",
        "    <th>Number \"Type\"</th>\n",
        "</tr>\n",
        "\n",
        "<tr>\n",
        "    <td>1,2,-5,1000</td>\n",
        "    <td>Integers</td>\n",
        "</tr>\n",
        "\n",
        "<tr>\n",
        "    <td>1.2,-0.5,2e2,3E2</td>\n",
        "    <td>Floating-point numbers</td>\n",
        "</tr>\n",
        " </table>"
      ]
    },
    {
      "cell_type": "markdown",
      "metadata": {
        "id": "mMeqVFgvh29s"
      },
      "source": [
        "\n",
        "\n",
        "Now let's start with some basic arithmetic."
      ]
    },
    {
      "cell_type": "markdown",
      "metadata": {
        "id": "xoULt-p1h29t"
      },
      "source": [
        "### Basic Arithmetic"
      ]
    },
    {
      "cell_type": "code",
      "execution_count": 1,
      "metadata": {
        "colab": {
          "base_uri": "https://localhost:8080/"
        },
        "id": "NcgzAmxbh29t",
        "outputId": "fec82964-80a3-4dda-c882-8a6008aa8a22"
      },
      "outputs": [
        {
          "output_type": "execute_result",
          "data": {
            "text/plain": [
              "3"
            ]
          },
          "metadata": {},
          "execution_count": 1
        }
      ],
      "source": [
        "# Addition\n",
        "2+1"
      ]
    },
    {
      "cell_type": "code",
      "execution_count": 2,
      "metadata": {
        "colab": {
          "base_uri": "https://localhost:8080/"
        },
        "id": "sS5BmL98h29v",
        "outputId": "e58f356a-e215-495d-a8c6-a46b65123e62"
      },
      "outputs": [
        {
          "output_type": "execute_result",
          "data": {
            "text/plain": [
              "1"
            ]
          },
          "metadata": {},
          "execution_count": 2
        }
      ],
      "source": [
        "# Subtraction\n",
        "2-1"
      ]
    },
    {
      "cell_type": "code",
      "execution_count": 3,
      "metadata": {
        "colab": {
          "base_uri": "https://localhost:8080/"
        },
        "id": "UwzENlFuh29w",
        "outputId": "c3928aa1-73eb-4b2b-fd3b-4ba485f83d02"
      },
      "outputs": [
        {
          "output_type": "execute_result",
          "data": {
            "text/plain": [
              "4"
            ]
          },
          "metadata": {},
          "execution_count": 3
        }
      ],
      "source": [
        "# Multiplication\n",
        "2*2"
      ]
    },
    {
      "cell_type": "code",
      "execution_count": 4,
      "metadata": {
        "colab": {
          "base_uri": "https://localhost:8080/"
        },
        "id": "wCHHsOxeh29x",
        "outputId": "754a1365-68f7-48e2-96b5-5973b9a987c5"
      },
      "outputs": [
        {
          "output_type": "execute_result",
          "data": {
            "text/plain": [
              "1.5"
            ]
          },
          "metadata": {},
          "execution_count": 4
        }
      ],
      "source": [
        "# Division\n",
        "3/2"
      ]
    },
    {
      "cell_type": "code",
      "execution_count": 5,
      "metadata": {
        "colab": {
          "base_uri": "https://localhost:8080/"
        },
        "id": "YPgilO8kh29y",
        "outputId": "57ebfb4d-48ee-46d4-d819-261c87c19994"
      },
      "outputs": [
        {
          "output_type": "execute_result",
          "data": {
            "text/plain": [
              "1"
            ]
          },
          "metadata": {},
          "execution_count": 5
        }
      ],
      "source": [
        "# Floor Division\n",
        "7//4"
      ]
    },
    {
      "cell_type": "markdown",
      "metadata": {
        "id": "e5BHHE24h29z"
      },
      "source": [
        "**Last time I checked, 7 divided by 4 equals 1.75 not 1!**\n",
        "\n",
        "The reason we get this result is because we are using \"*floor*\" division. The // operator (two forward slashes) truncates the decimal without rounding, and returns an integer result."
      ]
    },
    {
      "cell_type": "markdown",
      "metadata": {
        "id": "eLISLTNvh29z"
      },
      "source": [
        "**So what if we just want the remainder after division?**"
      ]
    },
    {
      "cell_type": "code",
      "execution_count": 6,
      "metadata": {
        "colab": {
          "base_uri": "https://localhost:8080/"
        },
        "id": "CUoWzPmrh29z",
        "outputId": "7f4e83b1-ea8e-4d6f-bae3-284eedc94ce9"
      },
      "outputs": [
        {
          "output_type": "execute_result",
          "data": {
            "text/plain": [
              "3"
            ]
          },
          "metadata": {},
          "execution_count": 6
        }
      ],
      "source": [
        "# Modulo\n",
        "7%4"
      ]
    },
    {
      "cell_type": "markdown",
      "metadata": {
        "id": "658BVUyMh29z"
      },
      "source": [
        "4 goes into 7 once, with a remainder of 3. The % operator returns the remainder after division."
      ]
    },
    {
      "cell_type": "markdown",
      "metadata": {
        "id": "WToUk2x2h29z"
      },
      "source": [
        "### Arithmetic continued"
      ]
    },
    {
      "cell_type": "code",
      "execution_count": 7,
      "metadata": {
        "colab": {
          "base_uri": "https://localhost:8080/"
        },
        "id": "grH_ehCwh29z",
        "outputId": "c8d335ba-5915-4563-99d5-404c61720967"
      },
      "outputs": [
        {
          "output_type": "execute_result",
          "data": {
            "text/plain": [
              "8"
            ]
          },
          "metadata": {},
          "execution_count": 7
        }
      ],
      "source": [
        "# Powers\n",
        "2**3"
      ]
    },
    {
      "cell_type": "code",
      "execution_count": 8,
      "metadata": {
        "colab": {
          "base_uri": "https://localhost:8080/"
        },
        "id": "T2k0jil0h290",
        "outputId": "8c6f487f-0286-40ef-d393-71e85d05f2da"
      },
      "outputs": [
        {
          "output_type": "execute_result",
          "data": {
            "text/plain": [
              "2.0"
            ]
          },
          "metadata": {},
          "execution_count": 8
        }
      ],
      "source": [
        "# Can also do roots this way\n",
        "4**0.5"
      ]
    },
    {
      "cell_type": "code",
      "execution_count": 9,
      "metadata": {
        "colab": {
          "base_uri": "https://localhost:8080/"
        },
        "id": "evnH4V_xh290",
        "outputId": "21cbb1e8-8532-41fc-d1c6-0157f930799b"
      },
      "outputs": [
        {
          "output_type": "execute_result",
          "data": {
            "text/plain": [
              "105"
            ]
          },
          "metadata": {},
          "execution_count": 9
        }
      ],
      "source": [
        "# Order of Operations followed in Python\n",
        "2 + 10 * 10 + 3"
      ]
    },
    {
      "cell_type": "code",
      "execution_count": 10,
      "metadata": {
        "colab": {
          "base_uri": "https://localhost:8080/"
        },
        "id": "y8LcQPOOh290",
        "outputId": "d0f19656-0b24-4b04-c4f9-17d5561f9093"
      },
      "outputs": [
        {
          "output_type": "execute_result",
          "data": {
            "text/plain": [
              "156"
            ]
          },
          "metadata": {},
          "execution_count": 10
        }
      ],
      "source": [
        "# Can use parentheses to specify orders\n",
        "(2+10) * (10+3)"
      ]
    },
    {
      "cell_type": "markdown",
      "metadata": {
        "id": "xugThO7Ah290"
      },
      "source": [
        "## Variable Assignments\n",
        "\n",
        "Now that we've seen how to use numbers in Python as a calculator let's see how we can assign names and create variables.\n",
        "\n",
        "We use a single equals sign to assign labels to variables. Let's see a few examples of how we can do this."
      ]
    },
    {
      "cell_type": "code",
      "execution_count": 11,
      "metadata": {
        "id": "NwZM-BQch291"
      },
      "outputs": [],
      "source": [
        "# Let's create an object called \"a\" and assign it the number 5\n",
        "a = 5"
      ]
    },
    {
      "cell_type": "markdown",
      "metadata": {
        "id": "2kerKufZh291"
      },
      "source": [
        "Now if I call *a* in my Python script, Python will treat it as the number 5."
      ]
    },
    {
      "cell_type": "code",
      "execution_count": 12,
      "metadata": {
        "colab": {
          "base_uri": "https://localhost:8080/"
        },
        "id": "yFs-7i1Dh291",
        "outputId": "36b07af0-62e8-430d-ee11-7357d2d8c95d"
      },
      "outputs": [
        {
          "output_type": "execute_result",
          "data": {
            "text/plain": [
              "10"
            ]
          },
          "metadata": {},
          "execution_count": 12
        }
      ],
      "source": [
        "# Adding the objects\n",
        "a+a"
      ]
    },
    {
      "cell_type": "markdown",
      "metadata": {
        "id": "E1ZjZuEAh291"
      },
      "source": [
        "What happens on reassignment? Will Python let us write it over?"
      ]
    },
    {
      "cell_type": "code",
      "execution_count": 13,
      "metadata": {
        "id": "ZzRH8OEGh291"
      },
      "outputs": [],
      "source": [
        "# Reassignment\n",
        "a = 10"
      ]
    },
    {
      "cell_type": "code",
      "execution_count": 14,
      "metadata": {
        "colab": {
          "base_uri": "https://localhost:8080/"
        },
        "id": "qhOq_cgsh291",
        "outputId": "6ef576ec-65ce-4f38-ff99-669c05045713"
      },
      "outputs": [
        {
          "output_type": "execute_result",
          "data": {
            "text/plain": [
              "10"
            ]
          },
          "metadata": {},
          "execution_count": 14
        }
      ],
      "source": [
        "# Check\n",
        "a"
      ]
    },
    {
      "cell_type": "markdown",
      "metadata": {
        "id": "4z5QAbYeh291"
      },
      "source": [
        "Yes! Python allows you to write over assigned variable names. We can also use the variables themselves when doing the reassignment. Here is an example of what I mean:"
      ]
    },
    {
      "cell_type": "code",
      "execution_count": 15,
      "metadata": {
        "colab": {
          "base_uri": "https://localhost:8080/"
        },
        "id": "FH1RJpY-h291",
        "outputId": "5668ee7e-06f1-419c-b44a-8cd285b516a4"
      },
      "outputs": [
        {
          "output_type": "execute_result",
          "data": {
            "text/plain": [
              "10"
            ]
          },
          "metadata": {},
          "execution_count": 15
        }
      ],
      "source": [
        "# Check\n",
        "a"
      ]
    },
    {
      "cell_type": "code",
      "execution_count": 16,
      "metadata": {
        "id": "lvG8Eg1yh292"
      },
      "outputs": [],
      "source": [
        "# Use A to redefine A\n",
        "a = a + a"
      ]
    },
    {
      "cell_type": "code",
      "execution_count": 17,
      "metadata": {
        "colab": {
          "base_uri": "https://localhost:8080/"
        },
        "id": "C_9kmiGEh292",
        "outputId": "c60fe15c-bc51-4755-dea8-55370bc0fd88"
      },
      "outputs": [
        {
          "output_type": "execute_result",
          "data": {
            "text/plain": [
              "20"
            ]
          },
          "metadata": {},
          "execution_count": 17
        }
      ],
      "source": [
        "# Check\n",
        "a"
      ]
    },
    {
      "cell_type": "markdown",
      "metadata": {
        "id": "KBG2jEF8h292"
      },
      "source": [
        "The names you use when creating these labels need to follow a few rules:\n",
        "\n",
        "    1. Names can not start with a number.\n",
        "    2. There can be no spaces in the name, use _ instead.\n",
        "    3. Can't use any of these symbols :'\",<>/?|\\()!@#$%^&*~-+\n",
        "    4. It's considered best practice (PEP8) that names are lowercase.\n",
        "    5. Avoid using the characters 'l' (lowercase letter el), 'O' (uppercase letter oh),\n",
        "       or 'I' (uppercase letter eye) as single character variable names.\n",
        "    6. Avoid using words that have special meaning in Python like \"list\" and \"str\"\n",
        "\n",
        "\n",
        "Using variable names can be a very useful way to keep track of different variables in Python. For example:"
      ]
    },
    {
      "cell_type": "code",
      "execution_count": 18,
      "metadata": {
        "id": "wMGgKIkeh292"
      },
      "outputs": [],
      "source": [
        "# Use object names to keep better track of what's going on in your code!\n",
        "my_income = 100\n",
        "\n",
        "tax_rate = 0.1\n",
        "\n",
        "my_taxes = my_income*tax_rate"
      ]
    },
    {
      "cell_type": "code",
      "execution_count": 19,
      "metadata": {
        "colab": {
          "base_uri": "https://localhost:8080/"
        },
        "id": "D31pJaf0h292",
        "outputId": "87151158-0db4-442f-b7f2-cf8394b24c0f"
      },
      "outputs": [
        {
          "output_type": "execute_result",
          "data": {
            "text/plain": [
              "10.0"
            ]
          },
          "metadata": {},
          "execution_count": 19
        }
      ],
      "source": [
        "# Show my taxes!\n",
        "my_taxes"
      ]
    },
    {
      "cell_type": "markdown",
      "metadata": {
        "id": "AJ2fsFVPh292"
      },
      "source": [
        "So what have we learned? We learned some of the basics of numbers in Python. We also learned how to do arithmetic and use Python as a basic calculator. We then wrapped it up with learning about Variable Assignment in Python."
      ]
    }
  ],
  "metadata": {
    "anaconda-cloud": {},
    "kernelspec": {
      "display_name": "Python 3",
      "language": "python",
      "name": "python3"
    },
    "language_info": {
      "codemirror_mode": {
        "name": "ipython",
        "version": 3
      },
      "file_extension": ".py",
      "mimetype": "text/x-python",
      "name": "python",
      "nbconvert_exporter": "python",
      "pygments_lexer": "ipython3",
      "version": "3.6.2"
    },
    "colab": {
      "provenance": []
    }
  },
  "nbformat": 4,
  "nbformat_minor": 0
}